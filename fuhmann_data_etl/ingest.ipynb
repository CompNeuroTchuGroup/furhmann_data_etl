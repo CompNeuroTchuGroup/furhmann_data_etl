{
 "cells": [
  {
   "cell_type": "code",
   "execution_count": null,
   "metadata": {},
   "outputs": [],
   "source": [
    "from main import client, logger, INGEST_PATH, TARGET_PATH\n",
    "from tqdm import tqdm\n",
    "from glob import glob\n",
    "import pandas as pd\n",
    "import os"
   ]
  },
  {
   "cell_type": "code",
   "execution_count": 10,
   "metadata": {},
   "outputs": [],
   "source": [
    "def load_hdf(file, entry_point):\n",
    "    df = pd.read_hdf(file, 'df')\n",
    "    df['file_name'] = file[len(entry_point)+1:]\n",
    "    \n",
    "    #Join neural data into an array data type (dimensionality may vary)\n",
    "    #They are the numerical columns, so filter by that.\n",
    "    numerical_columns = list(filter(lambda x: isinstance(x, int), df.columns))\n",
    "    \n",
    "    df[\"neural_data\"] = df[numerical_columns].values.copy().tolist()\n",
    "    df = df.drop(columns = numerical_columns)\n",
    "    \n",
    "    return df"
   ]
  },
  {
   "cell_type": "code",
   "execution_count": 11,
   "metadata": {},
   "outputs": [
    {
     "ename": "NameError",
     "evalue": "name 'INGEST_PATH' is not defined",
     "output_type": "error",
     "traceback": [
      "\u001b[0;31m---------------------------------------------------------------------------\u001b[0m",
      "\u001b[0;31mNameError\u001b[0m                                 Traceback (most recent call last)",
      "Cell \u001b[0;32mIn[11], line 1\u001b[0m\n\u001b[0;32m----> 1\u001b[0m \u001b[38;5;28;01mfor\u001b[39;00m file \u001b[38;5;129;01min\u001b[39;00m tqdm(glob(\u001b[38;5;124mf\u001b[39m\u001b[38;5;124m\"\u001b[39m\u001b[38;5;132;01m{\u001b[39;00m\u001b[43mINGEST_PATH\u001b[49m\u001b[38;5;132;01m}\u001b[39;00m\u001b[38;5;124m/**/*.h5\u001b[39m\u001b[38;5;124m\"\u001b[39m)):\n\u001b[1;32m      2\u001b[0m     df \u001b[38;5;241m=\u001b[39m load_hdf(file, INGEST_PATH)\n\u001b[1;32m      3\u001b[0m     save_path \u001b[38;5;241m=\u001b[39m \u001b[38;5;124mf\u001b[39m\u001b[38;5;124m\"\u001b[39m\u001b[38;5;132;01m{\u001b[39;00mTARGET_PATH\u001b[38;5;132;01m}\u001b[39;00m\u001b[38;5;124m/\u001b[39m\u001b[38;5;132;01m{\u001b[39;00mfile[\u001b[38;5;28mlen\u001b[39m(INGEST_PATH)\u001b[38;5;241m+\u001b[39m\u001b[38;5;241m1\u001b[39m:]\u001b[38;5;132;01m}\u001b[39;00m\u001b[38;5;124m\"\u001b[39m\n",
      "\u001b[0;31mNameError\u001b[0m: name 'INGEST_PATH' is not defined"
     ]
    }
   ],
   "source": [
    "for file in tqdm(glob(f\"{INGEST_PATH}/**/*.h5\")):\n",
    "    df = load_hdf(file, INGEST_PATH)\n",
    "    save_path = f\"{TARGET_PATH}/{file[len(INGEST_PATH)+1:]}\"\n",
    "    if not os.path.exists(save_path):\n",
    "        dir_name = os.path.dirname(save_path)\n",
    "        os.makedirs(dir_name, exist_ok=True)\n",
    "    save_path = os.path.splitext(save_path)[0] + \".parquet\"\n",
    "    df.to_parquet(save_path)"
   ]
  }
 ],
 "metadata": {
  "kernelspec": {
   "display_name": ".venv",
   "language": "python",
   "name": "python3"
  },
  "language_info": {
   "codemirror_mode": {
    "name": "ipython",
    "version": 3
   },
   "file_extension": ".py",
   "mimetype": "text/x-python",
   "name": "python",
   "nbconvert_exporter": "python",
   "pygments_lexer": "ipython3",
   "version": "3.12.3"
  }
 },
 "nbformat": 4,
 "nbformat_minor": 2
}
