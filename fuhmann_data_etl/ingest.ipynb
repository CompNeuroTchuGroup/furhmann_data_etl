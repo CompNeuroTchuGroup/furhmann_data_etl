{
 "cells": [
  {
   "cell_type": "code",
   "execution_count": 8,
   "metadata": {},
   "outputs": [],
   "source": [
    "from main import client, logger, INGEST_PATH, TARGET_PATH\n",
    "from tqdm import tqdm\n",
    "from glob import glob\n",
    "import pandas as pd\n",
    "import os"
   ]
  },
  {
   "cell_type": "code",
   "execution_count": 9,
   "metadata": {},
   "outputs": [],
   "source": [
    "def load_hdf(file, entry_point):\n",
    "    df = pd.read_hdf(file, 'df')\n",
    "    df['file_name'] = file[len(entry_point)+1:]\n",
    "    \n",
    "    #Join neural data into an array data type (dimensionality may vary)\n",
    "    #They are the numerical columns, so filter by that.\n",
    "    numerical_columns = list(filter(lambda x: isinstance(x, int), df.columns))\n",
    "    \n",
    "    df[\"neural_data\"] = df[numerical_columns].values.copy().tolist()\n",
    "    df = df.drop(columns = numerical_columns)\n",
    "    \n",
    "    return df"
   ]
  },
  {
   "cell_type": "code",
   "execution_count": 11,
   "metadata": {},
   "outputs": [
    {
     "name": "stderr",
     "output_type": "stream",
     "text": [
      "  0%|          | 0/52 [00:00<?, ?it/s]"
     ]
    },
    {
     "name": "stderr",
     "output_type": "stream",
     "text": [
      " 48%|████▊     | 25/52 [08:17<10:33, 23.46s/it]2024-12-09 14:17:32,513 - main - ERROR - Error processing /home/icaro/Documents/doctorate/raw_data/ID18150/Day3/DataFrame_Imaging_dFF_18150_day3.h5: 'NoneType' object has no attribute 'startswith'\n",
      "2024-12-09 14:17:32,513 - main - ERROR - Error processing /home/icaro/Documents/doctorate/raw_data/ID18150/Day3/DataFrame_Imaging_dFF_18150_day3.h5: 'NoneType' object has no attribute 'startswith'\n",
      "100%|██████████| 52/52 [17:19<00:00, 19.99s/it]\n"
     ]
    }
   ],
   "source": [
    "for file in tqdm(glob(f\"{INGEST_PATH}/**/*.h5\", recursive = True)):\n",
    "    try:\n",
    "        df = load_hdf(file, INGEST_PATH)\n",
    "        save_path = f\"{TARGET_PATH}/{file[len(INGEST_PATH)+1:]}\"\n",
    "        if not os.path.exists(save_path):\n",
    "            dir_name = os.path.dirname(save_path)\n",
    "            os.makedirs(dir_name, exist_ok=True)\n",
    "        save_path = os.path.splitext(save_path)[0] + \".parquet\"\n",
    "        df.to_parquet(save_path)\n",
    "    except Exception as e:\n",
    "        logger.error(f\"Error processing {file}: {e}\")"
   ]
  }
 ],
 "metadata": {
  "kernelspec": {
   "display_name": ".venv",
   "language": "python",
   "name": "python3"
  },
  "language_info": {
   "codemirror_mode": {
    "name": "ipython",
    "version": 3
   },
   "file_extension": ".py",
   "mimetype": "text/x-python",
   "name": "python",
   "nbconvert_exporter": "python",
   "pygments_lexer": "ipython3",
   "version": "3.12.3"
  }
 },
 "nbformat": 4,
 "nbformat_minor": 2
}
